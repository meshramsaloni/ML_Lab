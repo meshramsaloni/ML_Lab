{
  "nbformat": 4,
  "nbformat_minor": 0,
  "metadata": {
    "colab": {
      "provenance": []
    },
    "kernelspec": {
      "name": "python3",
      "display_name": "Python 3"
    },
    "language_info": {
      "name": "python"
    }
  },
  "cells": [
    {
      "cell_type": "code",
      "execution_count": 1,
      "metadata": {
        "id": "Ptdxug1GcaCR",
        "colab": {
          "base_uri": "https://localhost:8080/"
        },
        "outputId": "77b6888a-8cb7-4203-a094-6ebcddf599ea"
      },
      "outputs": [
        {
          "output_type": "stream",
          "name": "stdout",
          "text": [
            "Cluster\n",
            "0    508\n",
            "1    214\n",
            "2    169\n",
            "Name: count, dtype: int64\n"
          ]
        }
      ],
      "source": [
        "import pandas as pd\n",
        "from sklearn.preprocessing import StandardScaler, LabelEncoder\n",
        "from sklearn.cluster import KMeans\n",
        "import matplotlib.pyplot as plt\n",
        "\n",
        "df = pd.read_csv(\"train.csv\")\n",
        "\n",
        "features = df[['Pclass', 'Sex', 'Age', 'Fare', 'Embarked']].copy()\n",
        "\n",
        "le_sex = LabelEncoder()\n",
        "features['Sex'] = le_sex.fit_transform(features['Sex'])\n",
        "\n",
        "features['Embarked'] = features['Embarked'].fillna('Missing')\n",
        "le_embarked = LabelEncoder()\n",
        "features['Embarked'] = le_embarked.fit_transform(features['Embarked'])\n",
        "\n",
        "features['Age'] = features['Age'].fillna(features['Age'].median())\n",
        "\n",
        "scaler = StandardScaler()\n",
        "features_scaled = scaler.fit_transform(features)\n",
        "\n",
        "kmeans = KMeans(n_clusters=3, random_state=42)\n",
        "clusters = kmeans.fit_predict(features_scaled)\n",
        "\n",
        "df['Cluster'] = clusters\n",
        "\n",
        "print(df['Cluster'].value_counts())\n",
        "\n",
        "df.to_csv(\"titanic_with_clusters.csv\", index=False)"
      ]
    }
  ]
}